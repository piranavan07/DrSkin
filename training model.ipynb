{
 "cells": [
  {
   "cell_type": "code",
   "execution_count": 19,
   "id": "201dbd7c",
   "metadata": {},
   "outputs": [
    {
     "name": "stdout",
     "output_type": "stream",
     "text": [
      "C:\\Users\\piranavan\\PycharmProjects\\skinDr\n"
     ]
    }
   ],
   "source": [
    "!cd"
   ]
  },
  {
   "cell_type": "code",
   "execution_count": 29,
   "id": "a17567f0",
   "metadata": {},
   "outputs": [],
   "source": [
    "import sys\n",
    "from keras.preprocessing.image import ImageDataGenerator\n",
    "from keras.models import Sequential\n",
    "from keras.layers import Conv2D, MaxPooling2D\n",
    "from keras.layers import Activation, Dropout, Flatten, Dense\n",
    "from keras import backend\n",
    "\n",
    "import tensorflow as tf\n",
    "import numpy as np\n",
    "from keras.preprocessing import image"
   ]
  },
  {
   "cell_type": "code",
   "execution_count": 30,
   "id": "24aa2f78",
   "metadata": {},
   "outputs": [
    {
     "name": "stdout",
     "output_type": "stream",
     "text": [
      "\n",
      "Python 3.9.4 (tags/v3.9.4:1f2e308, Apr  6 2021, 13:40:21) [MSC v.1928 64 bit (AMD64)]\n",
      "GPU is NOT AVAILABLE\n"
     ]
    }
   ],
   "source": [
    "print()\n",
    "print(f\"Python {sys.version}\")\n",
    "print(\"GPU is\", \"available\" if tf.config.list_physical_devices('GPU') else \"NOT AVAILABLE\")"
   ]
  },
  {
   "cell_type": "code",
   "execution_count": 31,
   "id": "20d1fac6",
   "metadata": {},
   "outputs": [],
   "source": [
    "classes = ['Melanoma',\n",
    "           'Nevus']"
   ]
  },
  {
   "cell_type": "code",
   "execution_count": 32,
   "id": "b07e3c97",
   "metadata": {},
   "outputs": [
    {
     "name": "stdout",
     "output_type": "stream",
     "text": [
      "Found 1667 images belonging to 2 classes.\n",
      "Found 283 images belonging to 2 classes.\n"
     ]
    }
   ],
   "source": [
    "img_width = 224\n",
    "img_height = 224\n",
    "\n",
    "training_dataset = 'data_set/main_train'\n",
    "testing_dataset = 'data_set/main_test'\n",
    "\n",
    "epochs = 50\n",
    "batch_size = 20\n",
    "\n",
    "if backend.image_data_format() == 'channels_first':\n",
    "    input_shape = (3, img_width, img_height)\n",
    "else:\n",
    "    input_shape = (img_width, img_height, 3)\n",
    "    \n",
    "\n",
    "train_datagen = ImageDataGenerator(rescale= 1. /255, \n",
    "                                   shear_range=0.2, \n",
    "                                   zoom_range=0.2, \n",
    "                                   horizontal_flip=True)\n",
    "\n",
    "test_datagen = ImageDataGenerator(rescale=1. /255)\n",
    "\n",
    "train_gen = train_datagen.flow_from_directory(training_dataset, classes=classes, target_size=(img_width, img_height), \n",
    "                                              batch_size=batch_size, class_mode='binary')\n",
    "\n",
    "test_gen = test_datagen.flow_from_directory(testing_dataset, classes=classes, target_size=(img_width, img_height), \n",
    "                                              batch_size=batch_size, class_mode='binary')\n"
   ]
  },
  {
   "cell_type": "code",
   "execution_count": 40,
   "id": "94cbb146",
   "metadata": {},
   "outputs": [],
   "source": [
    "# test_datagen.shape"
   ]
  },
  {
   "cell_type": "code",
   "execution_count": 33,
   "id": "efb3294d",
   "metadata": {},
   "outputs": [
    {
     "name": "stdout",
     "output_type": "stream",
     "text": [
      "Model: \"sequential_2\"\n",
      "_________________________________________________________________\n",
      "Layer (type)                 Output Shape              Param #   \n",
      "=================================================================\n",
      "conv2d_5 (Conv2D)            (None, 222, 222, 32)      896       \n",
      "_________________________________________________________________\n",
      "activation_7 (Activation)    (None, 222, 222, 32)      0         \n",
      "_________________________________________________________________\n",
      "max_pooling2d_5 (MaxPooling2 (None, 111, 111, 32)      0         \n",
      "=================================================================\n",
      "Total params: 896\n",
      "Trainable params: 896\n",
      "Non-trainable params: 0\n",
      "_________________________________________________________________\n"
     ]
    }
   ],
   "source": [
    "model = Sequential()\n",
    "model.add(Conv2D(32, (3, 3), input_shape=input_shape))\n",
    "model.add(Activation('relu'))\n",
    "model.add(MaxPooling2D(pool_size=(2, 2)))\n",
    "\n",
    "model.summary()\n"
   ]
  },
  {
   "cell_type": "code",
   "execution_count": 34,
   "id": "01700f92",
   "metadata": {},
   "outputs": [
    {
     "name": "stdout",
     "output_type": "stream",
     "text": [
      "Model: \"sequential_2\"\n",
      "_________________________________________________________________\n",
      "Layer (type)                 Output Shape              Param #   \n",
      "=================================================================\n",
      "conv2d_5 (Conv2D)            (None, 222, 222, 32)      896       \n",
      "_________________________________________________________________\n",
      "activation_7 (Activation)    (None, 222, 222, 32)      0         \n",
      "_________________________________________________________________\n",
      "max_pooling2d_5 (MaxPooling2 (None, 111, 111, 32)      0         \n",
      "_________________________________________________________________\n",
      "conv2d_6 (Conv2D)            (None, 109, 109, 32)      9248      \n",
      "_________________________________________________________________\n",
      "activation_8 (Activation)    (None, 109, 109, 32)      0         \n",
      "_________________________________________________________________\n",
      "max_pooling2d_6 (MaxPooling2 (None, 54, 54, 32)        0         \n",
      "_________________________________________________________________\n",
      "conv2d_7 (Conv2D)            (None, 52, 52, 32)        9248      \n",
      "_________________________________________________________________\n",
      "activation_9 (Activation)    (None, 52, 52, 32)        0         \n",
      "_________________________________________________________________\n",
      "max_pooling2d_7 (MaxPooling2 (None, 26, 26, 32)        0         \n",
      "_________________________________________________________________\n",
      "conv2d_8 (Conv2D)            (None, 24, 24, 64)        18496     \n",
      "_________________________________________________________________\n",
      "activation_10 (Activation)   (None, 24, 24, 64)        0         \n",
      "_________________________________________________________________\n",
      "max_pooling2d_8 (MaxPooling2 (None, 12, 12, 64)        0         \n",
      "_________________________________________________________________\n",
      "conv2d_9 (Conv2D)            (None, 10, 10, 64)        36928     \n",
      "_________________________________________________________________\n",
      "activation_11 (Activation)   (None, 10, 10, 64)        0         \n",
      "_________________________________________________________________\n",
      "max_pooling2d_9 (MaxPooling2 (None, 5, 5, 64)          0         \n",
      "_________________________________________________________________\n",
      "flatten_1 (Flatten)          (None, 1600)              0         \n",
      "_________________________________________________________________\n",
      "dense_2 (Dense)              (None, 64)                102464    \n",
      "_________________________________________________________________\n",
      "activation_12 (Activation)   (None, 64)                0         \n",
      "_________________________________________________________________\n",
      "dropout_1 (Dropout)          (None, 64)                0         \n",
      "_________________________________________________________________\n",
      "dense_3 (Dense)              (None, 64)                4160      \n",
      "_________________________________________________________________\n",
      "activation_13 (Activation)   (None, 64)                0         \n",
      "=================================================================\n",
      "Total params: 181,440\n",
      "Trainable params: 181,440\n",
      "Non-trainable params: 0\n",
      "_________________________________________________________________\n"
     ]
    }
   ],
   "source": [
    "model.add(Conv2D(32, (3, 3), input_shape=input_shape))\n",
    "model.add(Activation('relu'))\n",
    "model.add(MaxPooling2D(pool_size=(2, 2)))\n",
    "\n",
    "model.add(Conv2D(32, (3, 3), input_shape=input_shape))\n",
    "model.add(Activation('relu'))\n",
    "model.add(MaxPooling2D(pool_size=(2, 2)))\n",
    "\n",
    "model.add(Conv2D(64, (3, 3), input_shape=input_shape))\n",
    "model.add(Activation('relu'))\n",
    "model.add(MaxPooling2D(pool_size=(2, 2)))\n",
    "\n",
    "model.add(Conv2D(64, (3, 3), input_shape=input_shape))\n",
    "model.add(Activation('relu'))\n",
    "model.add(MaxPooling2D(pool_size=(2, 2)))\n",
    "\n",
    "model.add(Flatten())\n",
    "model.add(Dense(64))\n",
    "model.add(Activation('relu'))\n",
    "model.add(Dropout(0.5))\n",
    "model.add(Dense(64))\n",
    "model.add(Activation('softmax'))\n",
    "\n",
    "model.summary()\n"
   ]
  },
  {
   "cell_type": "code",
   "execution_count": 42,
   "id": "2aea1303",
   "metadata": {},
   "outputs": [
    {
     "name": "stdout",
     "output_type": "stream",
     "text": [
      "Epoch 1/50\n",
      "84/84 [==============================] - 99s 1s/step - loss: 1.6769 - accuracy: 0.6715 - val_loss: 0.4854 - val_accuracy: 0.7845\n",
      "Epoch 2/50\n",
      "84/84 [==============================] - 81s 966ms/step - loss: 0.4946 - accuracy: 0.8125 - val_loss: 0.3625 - val_accuracy: 0.8163\n",
      "Epoch 3/50\n",
      "84/84 [==============================] - 79s 939ms/step - loss: 0.4483 - accuracy: 0.7935 - val_loss: 0.3117 - val_accuracy: 0.8657\n",
      "Epoch 4/50\n",
      "84/84 [==============================] - 76s 898ms/step - loss: 0.3280 - accuracy: 0.8652 - val_loss: 0.2957 - val_accuracy: 0.8799\n",
      "Epoch 5/50\n",
      "84/84 [==============================] - 78s 932ms/step - loss: 0.3448 - accuracy: 0.8425 - val_loss: 0.3716 - val_accuracy: 0.8481\n",
      "Epoch 6/50\n",
      "84/84 [==============================] - 79s 941ms/step - loss: 0.3688 - accuracy: 0.8386 - val_loss: 0.3616 - val_accuracy: 0.8163\n",
      "Epoch 7/50\n",
      "84/84 [==============================] - 78s 931ms/step - loss: 0.2732 - accuracy: 0.8761 - val_loss: 0.2145 - val_accuracy: 0.9258\n",
      "Epoch 8/50\n",
      "84/84 [==============================] - 77s 913ms/step - loss: 0.2813 - accuracy: 0.8689 - val_loss: 0.3272 - val_accuracy: 0.7845\n",
      "Epoch 9/50\n",
      "84/84 [==============================] - 92s 1s/step - loss: 0.3287 - accuracy: 0.8513 - val_loss: 0.2355 - val_accuracy: 0.9258\n",
      "Epoch 10/50\n",
      "84/84 [==============================] - 89s 1s/step - loss: 0.2551 - accuracy: 0.8898 - val_loss: 0.3030 - val_accuracy: 0.8481\n",
      "Epoch 11/50\n",
      "84/84 [==============================] - 89s 1s/step - loss: 0.2781 - accuracy: 0.8807 - val_loss: 0.1984 - val_accuracy: 0.9329\n",
      "Epoch 12/50\n",
      "84/84 [==============================] - 92s 1s/step - loss: 0.2259 - accuracy: 0.9129 - val_loss: 0.2258 - val_accuracy: 0.9046\n",
      "Epoch 13/50\n",
      "84/84 [==============================] - 87s 1s/step - loss: 0.2309 - accuracy: 0.8859 - val_loss: 0.1693 - val_accuracy: 0.9399\n",
      "Epoch 14/50\n",
      "84/84 [==============================] - 91s 1s/step - loss: 0.2245 - accuracy: 0.9123 - val_loss: 0.2237 - val_accuracy: 0.9117\n",
      "Epoch 15/50\n",
      "84/84 [==============================] - 85s 1s/step - loss: 0.2621 - accuracy: 0.8901 - val_loss: 0.1617 - val_accuracy: 0.9505\n",
      "Epoch 16/50\n",
      "84/84 [==============================] - 88s 1s/step - loss: 0.2391 - accuracy: 0.9112 - val_loss: 0.1458 - val_accuracy: 0.9541\n",
      "Epoch 17/50\n",
      "84/84 [==============================] - 85s 1s/step - loss: 0.2093 - accuracy: 0.9175 - val_loss: 0.1596 - val_accuracy: 0.9399\n",
      "Epoch 18/50\n",
      "84/84 [==============================] - 85s 1s/step - loss: 0.2053 - accuracy: 0.9209 - val_loss: 0.1556 - val_accuracy: 0.9505\n",
      "Epoch 19/50\n",
      "84/84 [==============================] - 85s 1s/step - loss: 0.1985 - accuracy: 0.9140 - val_loss: 0.1909 - val_accuracy: 0.9223\n",
      "Epoch 20/50\n",
      "84/84 [==============================] - 85s 1s/step - loss: 0.2183 - accuracy: 0.9200 - val_loss: 0.1658 - val_accuracy: 0.9293\n",
      "Epoch 21/50\n",
      "84/84 [==============================] - 84s 999ms/step - loss: 0.1941 - accuracy: 0.9288 - val_loss: 0.1610 - val_accuracy: 0.9152\n",
      "Epoch 22/50\n",
      "84/84 [==============================] - 85s 1s/step - loss: 0.1941 - accuracy: 0.9208 - val_loss: 0.1332 - val_accuracy: 0.9505\n",
      "Epoch 23/50\n",
      "84/84 [==============================] - 85s 1s/step - loss: 0.1802 - accuracy: 0.9190 - val_loss: 0.1346 - val_accuracy: 0.9435\n",
      "Epoch 24/50\n",
      "84/84 [==============================] - 87s 1s/step - loss: 0.1650 - accuracy: 0.9401 - val_loss: 0.1275 - val_accuracy: 0.9505\n",
      "Epoch 25/50\n",
      "84/84 [==============================] - 88s 1s/step - loss: 0.1435 - accuracy: 0.9451 - val_loss: 0.1753 - val_accuracy: 0.9258\n",
      "Epoch 26/50\n",
      "84/84 [==============================] - 87s 1s/step - loss: 0.1850 - accuracy: 0.9354 - val_loss: 0.1727 - val_accuracy: 0.9223\n",
      "Epoch 27/50\n",
      "84/84 [==============================] - 88s 1s/step - loss: 0.2642 - accuracy: 0.8884 - val_loss: 0.1603 - val_accuracy: 0.9505\n",
      "Epoch 28/50\n",
      "84/84 [==============================] - 90s 1s/step - loss: 0.1966 - accuracy: 0.9304 - val_loss: 0.1369 - val_accuracy: 0.9505\n",
      "Epoch 29/50\n",
      "84/84 [==============================] - 89s 1s/step - loss: 0.1671 - accuracy: 0.9387 - val_loss: 0.1293 - val_accuracy: 0.9435\n",
      "Epoch 30/50\n",
      "84/84 [==============================] - 86s 1s/step - loss: 0.1609 - accuracy: 0.9359 - val_loss: 0.1235 - val_accuracy: 0.9470\n",
      "Epoch 31/50\n",
      "84/84 [==============================] - 88s 1s/step - loss: 0.1406 - accuracy: 0.9420 - val_loss: 0.1037 - val_accuracy: 0.9647\n",
      "Epoch 32/50\n",
      "84/84 [==============================] - 86s 1s/step - loss: 0.1482 - accuracy: 0.9394 - val_loss: 0.1083 - val_accuracy: 0.9576\n",
      "Epoch 33/50\n",
      "84/84 [==============================] - 86s 1s/step - loss: 0.1299 - accuracy: 0.9431 - val_loss: 0.1324 - val_accuracy: 0.9576\n",
      "Epoch 34/50\n",
      "84/84 [==============================] - 89s 1s/step - loss: 0.1530 - accuracy: 0.9307 - val_loss: 0.1224 - val_accuracy: 0.9505\n",
      "Epoch 35/50\n",
      "84/84 [==============================] - 88s 1s/step - loss: 0.1593 - accuracy: 0.9325 - val_loss: 0.1310 - val_accuracy: 0.9329\n",
      "Epoch 36/50\n",
      "84/84 [==============================] - 86s 1s/step - loss: 0.1336 - accuracy: 0.9470 - val_loss: 0.1584 - val_accuracy: 0.9364\n",
      "Epoch 37/50\n",
      "84/84 [==============================] - 89s 1s/step - loss: 0.0911 - accuracy: 0.9598 - val_loss: 0.1511 - val_accuracy: 0.9117\n",
      "Epoch 38/50\n",
      "84/84 [==============================] - 89s 1s/step - loss: 0.1469 - accuracy: 0.9407 - val_loss: 0.1785 - val_accuracy: 0.9258\n",
      "Epoch 39/50\n",
      "84/84 [==============================] - 85s 1s/step - loss: 0.1296 - accuracy: 0.9527 - val_loss: 0.1185 - val_accuracy: 0.9576\n",
      "Epoch 40/50\n",
      "84/84 [==============================] - 83s 981ms/step - loss: 0.1524 - accuracy: 0.9356 - val_loss: 0.1570 - val_accuracy: 0.9329\n",
      "Epoch 41/50\n",
      "84/84 [==============================] - 88s 1s/step - loss: 0.1198 - accuracy: 0.9523 - val_loss: 0.1372 - val_accuracy: 0.9541\n",
      "Epoch 42/50\n",
      "84/84 [==============================] - 88s 1s/step - loss: 0.1225 - accuracy: 0.9524 - val_loss: 0.1125 - val_accuracy: 0.9611\n",
      "Epoch 43/50\n",
      "84/84 [==============================] - 86s 1s/step - loss: 0.1116 - accuracy: 0.9540 - val_loss: 0.1449 - val_accuracy: 0.9470\n",
      "Epoch 44/50\n",
      "84/84 [==============================] - 85s 1s/step - loss: 0.1318 - accuracy: 0.9544 - val_loss: 0.1364 - val_accuracy: 0.9470\n",
      "Epoch 45/50\n",
      "84/84 [==============================] - 86s 1s/step - loss: 0.1193 - accuracy: 0.9514 - val_loss: 0.1517 - val_accuracy: 0.9329\n",
      "Epoch 46/50\n",
      "84/84 [==============================] - 89s 1s/step - loss: 0.1226 - accuracy: 0.9550 - val_loss: 0.1279 - val_accuracy: 0.9541\n",
      "Epoch 47/50\n",
      "84/84 [==============================] - 89s 1s/step - loss: 0.1017 - accuracy: 0.9605 - val_loss: 0.1036 - val_accuracy: 0.9541\n",
      "Epoch 48/50\n",
      "84/84 [==============================] - 86s 1s/step - loss: 0.1082 - accuracy: 0.9581 - val_loss: 0.1156 - val_accuracy: 0.9505\n",
      "Epoch 49/50\n",
      "84/84 [==============================] - 85s 1s/step - loss: 0.1118 - accuracy: 0.9566 - val_loss: 0.1491 - val_accuracy: 0.9364\n",
      "Epoch 50/50\n",
      "84/84 [==============================] - 87s 1s/step - loss: 0.1111 - accuracy: 0.9546 - val_loss: 0.1304 - val_accuracy: 0.9435\n"
     ]
    }
   ],
   "source": [
    "# model.compile(loss='binary_crossentropy', optimizer='rmsprop', metrics=['accuracy'])\n",
    "model.compile(loss='sparse_categorical_crossentropy', optimizer='adam', metrics=['accuracy'])\n",
    "\n",
    "# model.fit_generator(train_gen,\n",
    "#                    steps_per_epoch= 1000 // batch_size,\n",
    "#                    epochs=epochs,\n",
    "#                    validation_data=test_gen,\n",
    "#                    validation_steps= 50 // batch_size)\n",
    "model.fit_generator(train_gen,\n",
    "                   epochs=epochs,\n",
    "                   validation_data=test_gen)\n",
    "# model.fit(train_gen, test_gen, epochs)\n",
    "\n",
    "model.save_weights('init_model.h5')"
   ]
  },
  {
   "cell_type": "code",
   "execution_count": null,
   "id": "9e997862",
   "metadata": {},
   "outputs": [],
   "source": [
    "# import cv2\n",
    "# img = 'data_set/66.jpg'\n",
    "# img = cv2.resize(cv2.imread(img), (32,32)) / 255.0\n",
    "# prediction = model.predict(img.reshape(1,32,32,3))\n",
    "# print(prediction)\n",
    "# classes[prediction.argmax()]"
   ]
  },
  {
   "cell_type": "code",
   "execution_count": 52,
   "id": "b8231ee5",
   "metadata": {},
   "outputs": [
    {
     "data": {
      "text/plain": [
       "'Nevus'"
      ]
     },
     "execution_count": 52,
     "metadata": {},
     "output_type": "execute_result"
    }
   ],
   "source": [
    "image_pred = image.load_img('data_set/26.jpg', target_size = (img_width, img_width))\n",
    "image_pred = image.image.img_to_array(image_pred)\n",
    "image_pred = np.expand_dims(image_pred, axis=0)\n",
    "\n",
    "result = model.predict(image_pred)\n",
    "# print(result)  #Amelanotic melanoma   Hypomelanotic malignant melanoma.jpg\n",
    "\n",
    "classes[result.argmax()]"
   ]
  },
  {
   "cell_type": "code",
   "execution_count": null,
   "id": "f4a6b95f",
   "metadata": {},
   "outputs": [],
   "source": []
  },
  {
   "cell_type": "code",
   "execution_count": null,
   "id": "1092155d",
   "metadata": {},
   "outputs": [],
   "source": []
  }
 ],
 "metadata": {
  "kernelspec": {
   "display_name": "Python 3 (ipykernel)",
   "language": "python",
   "name": "python3"
  },
  "language_info": {
   "codemirror_mode": {
    "name": "ipython",
    "version": 3
   },
   "file_extension": ".py",
   "mimetype": "text/x-python",
   "name": "python",
   "nbconvert_exporter": "python",
   "pygments_lexer": "ipython3",
   "version": "3.9.4"
  }
 },
 "nbformat": 4,
 "nbformat_minor": 5
}
