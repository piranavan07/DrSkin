{
 "cells": [
  {
   "cell_type": "code",
   "execution_count": 5,
   "metadata": {},
   "outputs": [
    {
     "name": "stdout",
     "output_type": "stream",
     "text": [
      "Tensor Flow Version: 2.2.0\n",
      "Keras Version: 2.3.0-tf\n",
      "\n",
      "Python 3.8.3 (default, May 19 2020, 06:50:17) [MSC v.1916 64 bit (AMD64)]\n",
      "Pandas 1.0.3\n",
      "Scikit-Learn 0.23.1\n",
      "GPU is NOT AVAILABLE\n"
     ]
    }
   ],
   "source": [
    "import sys\n",
    "\n",
    "import tensorflow.keras\n",
    "import pandas as pd\n",
    "import sklearn as sk\n",
    "import tensorflow as tf\n",
    "\n",
    "print(f\"Tensor Flow Version: {tf.__version__}\")\n",
    "print(f\"Keras Version: {tensorflow.keras.__version__}\")\n",
    "print()\n",
    "print(f\"Python {sys.version}\")\n",
    "print(f\"Pandas {pd.__version__}\")\n",
    "print(f\"Scikit-Learn {sk.__version__}\")\n",
    "print(\"GPU is\", \"available\" if tf.config.list_physical_devices('GPU') else \"NOT AVAILABLE\")"
   ]
  },
  {
   "cell_type": "code",
   "execution_count": 7,
   "metadata": {},
   "outputs": [
    {
     "name": "stderr",
     "output_type": "stream",
     "text": [
      "Using TensorFlow backend.\n"
     ]
    }
   ],
   "source": [
    "from keras.applications.vgg19 import VGG19\n",
    "from keras.models import Model, load_model\n",
    "from keras.layers import Dense, GlobalAveragePooling2D, Flatten\n",
    "from __future__ import print_function\n",
    "from keras.datasets import cifar10\n",
    "from keras.preprocessing.image import ImageDataGenerator\n",
    "from keras.utils import np_utils\n",
    "from keras.callbacks import ReduceLROnPlateau, CSVLogger, EarlyStopping, ModelCheckpoint\n",
    "import matplotlib.pyplot as plt\n",
    "from PIL import Image\n",
    "import numpy as np\n",
    "%matplotlib inline"
   ]
  },
  {
   "cell_type": "code",
   "execution_count": 8,
   "metadata": {},
   "outputs": [
    {
     "data": {
      "text/plain": [
       "['Melanoma-Begin', 'Melanoma-malignant', 'Nevus-Begin', 'Nevus-malignant']"
      ]
     },
     "execution_count": 8,
     "metadata": {},
     "output_type": "execute_result"
    }
   ],
   "source": [
    "classes = ['Melanoma-Begin',\n",
    "           'Melanoma-malignant',\n",
    "           'Nevus-Begin',\n",
    "           'Nevus-malignant']\n",
    "classes"
   ]
  },
  {
   "cell_type": "code",
   "execution_count": 15,
   "metadata": {},
   "outputs": [
    {
     "name": "stdout",
     "output_type": "stream",
     "text": [
      "Model: \"model_2\"\n",
      "_________________________________________________________________\n",
      "Layer (type)                 Output Shape              Param #   \n",
      "=================================================================\n",
      "input_2 (InputLayer)         (None, 32, 32, 3)         0         \n",
      "_________________________________________________________________\n",
      "block1_conv1 (Conv2D)        (None, 32, 32, 64)        1792      \n",
      "_________________________________________________________________\n",
      "block1_conv2 (Conv2D)        (None, 32, 32, 64)        36928     \n",
      "_________________________________________________________________\n",
      "block1_pool (MaxPooling2D)   (None, 16, 16, 64)        0         \n",
      "_________________________________________________________________\n",
      "block2_conv1 (Conv2D)        (None, 16, 16, 128)       73856     \n",
      "_________________________________________________________________\n",
      "block2_conv2 (Conv2D)        (None, 16, 16, 128)       147584    \n",
      "_________________________________________________________________\n",
      "block2_pool (MaxPooling2D)   (None, 8, 8, 128)         0         \n",
      "_________________________________________________________________\n",
      "block3_conv1 (Conv2D)        (None, 8, 8, 256)         295168    \n",
      "_________________________________________________________________\n",
      "block3_conv2 (Conv2D)        (None, 8, 8, 256)         590080    \n",
      "_________________________________________________________________\n",
      "block3_conv3 (Conv2D)        (None, 8, 8, 256)         590080    \n",
      "_________________________________________________________________\n",
      "block3_conv4 (Conv2D)        (None, 8, 8, 256)         590080    \n",
      "_________________________________________________________________\n",
      "block3_pool (MaxPooling2D)   (None, 4, 4, 256)         0         \n",
      "_________________________________________________________________\n",
      "block4_conv1 (Conv2D)        (None, 4, 4, 512)         1180160   \n",
      "_________________________________________________________________\n",
      "block4_conv2 (Conv2D)        (None, 4, 4, 512)         2359808   \n",
      "_________________________________________________________________\n",
      "block4_conv3 (Conv2D)        (None, 4, 4, 512)         2359808   \n",
      "_________________________________________________________________\n",
      "block4_conv4 (Conv2D)        (None, 4, 4, 512)         2359808   \n",
      "_________________________________________________________________\n",
      "block4_pool (MaxPooling2D)   (None, 2, 2, 512)         0         \n",
      "_________________________________________________________________\n",
      "block5_conv1 (Conv2D)        (None, 2, 2, 512)         2359808   \n",
      "_________________________________________________________________\n",
      "block5_conv2 (Conv2D)        (None, 2, 2, 512)         2359808   \n",
      "_________________________________________________________________\n",
      "block5_conv3 (Conv2D)        (None, 2, 2, 512)         2359808   \n",
      "_________________________________________________________________\n",
      "block5_conv4 (Conv2D)        (None, 2, 2, 512)         2359808   \n",
      "_________________________________________________________________\n",
      "block5_pool (MaxPooling2D)   (None, 1, 1, 512)         0         \n",
      "_________________________________________________________________\n",
      "global_average_pooling2d_2 ( (None, 512)               0         \n",
      "_________________________________________________________________\n",
      "dense_3 (Dense)              (None, 1024)              525312    \n",
      "_________________________________________________________________\n",
      "dense_4 (Dense)              (None, 4)                 4100      \n",
      "=================================================================\n",
      "Total params: 20,553,796\n",
      "Trainable params: 9,968,644\n",
      "Non-trainable params: 10,585,152\n",
      "_________________________________________________________________\n"
     ]
    }
   ],
   "source": [
    "base_model = VGG19(include_top=False, weights='imagenet', input_shape=(32,32,3))\n",
    "\n",
    "for layer in base_model.layers[:-5]:\n",
    "  layer.trainable = False\n",
    "\n",
    "output = base_model.output\n",
    "x = GlobalAveragePooling2D()(output)\n",
    "x = Dense(1024, activation='relu')(x)\n",
    "x = Dense(4, activation='softmax')(x)\n",
    "\n",
    "model = Model(inputs=base_model.input, outputs=x)\n",
    "model.summary()"
   ]
  },
  {
   "cell_type": "code",
   "execution_count": 2,
   "metadata": {},
   "outputs": [
    {
     "name": "stdout",
     "output_type": "stream",
     "text": [
      "/cygdrive/c/Users/pirana/Documents/My_Projects\n"
     ]
    },
    {
     "name": "stderr",
     "output_type": "stream",
     "text": [
      "The system cannot find the path specified.\n"
     ]
    }
   ],
   "source": [
    "!pwd"
   ]
  },
  {
   "cell_type": "code",
   "execution_count": 3,
   "metadata": {},
   "outputs": [
    {
     "name": "stdout",
     "output_type": "stream",
     "text": [
      "Image-class.ipynb\n",
      "Python_project\n",
      "data set.zip"
     ]
    },
    {
     "name": "stderr",
     "output_type": "stream",
     "text": [
      "The system cannot find the path specified.\n"
     ]
    },
    {
     "name": "stdout",
     "output_type": "stream",
     "text": [
      "\n",
      "data_set\n",
      "image-classifier.ipynb\n",
      "predict_vgg19.ipynb\n"
     ]
    }
   ],
   "source": [
    "!ls"
   ]
  },
  {
   "cell_type": "code",
   "execution_count": 5,
   "metadata": {},
   "outputs": [
    {
     "name": "stdout",
     "output_type": "stream",
     "text": [
      "test\n",
      "train\n"
     ]
    },
    {
     "name": "stderr",
     "output_type": "stream",
     "text": [
      "The system cannot find the path specified.\n"
     ]
    }
   ],
   "source": [
    "!ls data_set\n",
    "!pwd"
   ]
  },
  {
   "cell_type": "code",
   "execution_count": 6,
   "metadata": {},
   "outputs": [
    {
     "data": {
      "text/plain": [
       "4"
      ]
     },
     "execution_count": 6,
     "metadata": {},
     "output_type": "execute_result"
    }
   ],
   "source": [
    "import os\n",
    "len(os.listdir('data_set/train'))"
   ]
  },
  {
   "cell_type": "code",
   "execution_count": 16,
   "metadata": {},
   "outputs": [
    {
     "name": "stdout",
     "output_type": "stream",
     "text": [
      "Found 2459 images belonging to 4 classes.\n",
      "Found 293 images belonging to 4 classes.\n",
      "Epoch 1/20\n",
      "124/124 [==============================] - 482s 4s/step - loss: 0.9837 - accuracy: 0.4742 - val_loss: 0.8942 - val_accuracy: 0.4835\n",
      "\n",
      "Epoch 00001: val_loss improved from inf to 0.89418, saving model to vgg19_20epochs.h5\n",
      "Epoch 2/20\n",
      "124/124 [==============================] - 486s 4s/step - loss: 0.8123 - accuracy: 0.4936 - val_loss: 0.8724 - val_accuracy: 0.5091\n",
      "\n",
      "Epoch 00002: val_loss improved from 0.89418 to 0.87237, saving model to vgg19_20epochs.h5\n",
      "Epoch 3/20\n",
      "124/124 [==============================] - 560s 5s/step - loss: 0.7935 - accuracy: 0.5201 - val_loss: 0.7846 - val_accuracy: 0.4516\n",
      "\n",
      "Epoch 00003: val_loss improved from 0.87237 to 0.78456, saving model to vgg19_20epochs.h5\n",
      "Epoch 4/20\n",
      "124/124 [==============================] - 512s 4s/step - loss: 0.8016 - accuracy: 0.5254 - val_loss: 0.9477 - val_accuracy: 0.4577\n",
      "\n",
      "Epoch 00004: val_loss did not improve from 0.78456\n",
      "Epoch 5/20\n",
      "124/124 [==============================] - 571s 5s/step - loss: 0.7710 - accuracy: 0.5267 - val_loss: 0.7848 - val_accuracy: 0.5335\n",
      "\n",
      "Epoch 00005: val_loss did not improve from 0.78456\n",
      "Epoch 6/20\n",
      "124/124 [==============================] - 601s 5s/step - loss: 0.7556 - accuracy: 0.5485 - val_loss: 0.7782 - val_accuracy: 0.5098\n",
      "\n",
      "Epoch 00006: val_loss improved from 0.78456 to 0.77820, saving model to vgg19_20epochs.h5\n",
      "Epoch 7/20\n",
      "124/124 [==============================] - 500s 4s/step - loss: 0.7399 - accuracy: 0.5661 - val_loss: 0.9232 - val_accuracy: 0.5330\n",
      "\n",
      "Epoch 00007: val_loss did not improve from 0.77820\n",
      "Epoch 8/20\n",
      "124/124 [==============================] - 410s 3s/step - loss: 0.7721 - accuracy: 0.5617 - val_loss: 0.8570 - val_accuracy: 0.4969\n",
      "\n",
      "Epoch 00008: val_loss did not improve from 0.77820\n",
      "Epoch 9/20\n",
      "124/124 [==============================] - 372s 3s/step - loss: 0.7349 - accuracy: 0.5563 - val_loss: 0.7951 - val_accuracy: 0.5402\n",
      "\n",
      "Epoch 00009: val_loss did not improve from 0.77820\n",
      "Epoch 10/20\n",
      "124/124 [==============================] - 383s 3s/step - loss: 0.7218 - accuracy: 0.5767 - val_loss: 0.8196 - val_accuracy: 0.5802\n",
      "\n",
      "Epoch 00010: val_loss did not improve from 0.77820\n",
      "Epoch 11/20\n",
      "124/124 [==============================] - 383s 3s/step - loss: 0.7187 - accuracy: 0.5684 - val_loss: 0.8967 - val_accuracy: 0.5525\n",
      "\n",
      "Epoch 00011: val_loss did not improve from 0.77820\n",
      "Epoch 12/20\n",
      "124/124 [==============================] - 377s 3s/step - loss: 0.6790 - accuracy: 0.6028 - val_loss: 0.9240 - val_accuracy: 0.5620\n",
      "\n",
      "Epoch 00012: val_loss did not improve from 0.77820\n",
      "Epoch 13/20\n",
      "124/124 [==============================] - 376s 3s/step - loss: 0.6598 - accuracy: 0.6088 - val_loss: 0.7428 - val_accuracy: 0.5808\n",
      "\n",
      "Epoch 00013: val_loss improved from 0.77820 to 0.74280, saving model to vgg19_20epochs.h5\n",
      "Epoch 14/20\n",
      "124/124 [==============================] - 373s 3s/step - loss: 0.6542 - accuracy: 0.6118 - val_loss: 0.7745 - val_accuracy: 0.5978\n",
      "\n",
      "Epoch 00014: val_loss did not improve from 0.74280\n",
      "Epoch 15/20\n",
      "124/124 [==============================] - 371s 3s/step - loss: 0.6469 - accuracy: 0.6118 - val_loss: 0.7032 - val_accuracy: 0.5926\n",
      "\n",
      "Epoch 00015: val_loss improved from 0.74280 to 0.70318, saving model to vgg19_20epochs.h5\n",
      "Epoch 16/20\n",
      "124/124 [==============================] - 370s 3s/step - loss: 0.6411 - accuracy: 0.6109 - val_loss: 1.0230 - val_accuracy: 0.5499\n",
      "\n",
      "Epoch 00016: val_loss did not improve from 0.70318\n",
      "Epoch 17/20\n",
      "124/124 [==============================] - 379s 3s/step - loss: 0.6370 - accuracy: 0.6184 - val_loss: 0.8136 - val_accuracy: 0.5459\n",
      "\n",
      "Epoch 00017: val_loss did not improve from 0.70318\n",
      "Epoch 18/20\n",
      "124/124 [==============================] - 449s 4s/step - loss: 0.6365 - accuracy: 0.6181 - val_loss: 1.0719 - val_accuracy: 0.5123\n",
      "\n",
      "Epoch 00018: val_loss did not improve from 0.70318\n",
      "Epoch 19/20\n",
      "124/124 [==============================] - 448s 4s/step - loss: 0.6274 - accuracy: 0.6157 - val_loss: 0.8157 - val_accuracy: 0.5724\n",
      "\n",
      "Epoch 00019: val_loss did not improve from 0.70318\n",
      "Epoch 20/20\n",
      "124/124 [==============================] - 439s 4s/step - loss: 0.6233 - accuracy: 0.6218 - val_loss: 0.7218 - val_accuracy: 0.5428\n",
      "\n",
      "Epoch 00020: val_loss did not improve from 0.70318\n"
     ]
    },
    {
     "ename": "KeyError",
     "evalue": "'acc'",
     "output_type": "error",
     "traceback": [
      "\u001b[1;31m---------------------------------------------------------------------------\u001b[0m",
      "\u001b[1;31mKeyError\u001b[0m                                  Traceback (most recent call last)",
      "\u001b[1;32m<ipython-input-16-74087070409a>\u001b[0m in \u001b[0;36m<module>\u001b[1;34m\u001b[0m\n\u001b[0;32m     40\u001b[0m \u001b[0mmodel\u001b[0m\u001b[1;33m.\u001b[0m\u001b[0msave\u001b[0m\u001b[1;33m(\u001b[0m\u001b[1;34m'final_vgg1920epochs.h5'\u001b[0m\u001b[1;33m)\u001b[0m\u001b[1;33m\u001b[0m\u001b[1;33m\u001b[0m\u001b[0m\n\u001b[0;32m     41\u001b[0m \u001b[1;31m# summarize history for accuracy\u001b[0m\u001b[1;33m\u001b[0m\u001b[1;33m\u001b[0m\u001b[1;33m\u001b[0m\u001b[0m\n\u001b[1;32m---> 42\u001b[1;33m \u001b[0mplt\u001b[0m\u001b[1;33m.\u001b[0m\u001b[0mplot\u001b[0m\u001b[1;33m(\u001b[0m\u001b[0mhistory\u001b[0m\u001b[1;33m.\u001b[0m\u001b[0mhistory\u001b[0m\u001b[1;33m[\u001b[0m\u001b[1;34m'acc'\u001b[0m\u001b[1;33m]\u001b[0m\u001b[1;33m)\u001b[0m\u001b[1;33m\u001b[0m\u001b[1;33m\u001b[0m\u001b[0m\n\u001b[0m\u001b[0;32m     43\u001b[0m \u001b[0mplt\u001b[0m\u001b[1;33m.\u001b[0m\u001b[0mplot\u001b[0m\u001b[1;33m(\u001b[0m\u001b[0mhistory\u001b[0m\u001b[1;33m.\u001b[0m\u001b[0mhistory\u001b[0m\u001b[1;33m[\u001b[0m\u001b[1;34m'val_acc'\u001b[0m\u001b[1;33m]\u001b[0m\u001b[1;33m)\u001b[0m\u001b[1;33m\u001b[0m\u001b[1;33m\u001b[0m\u001b[0m\n\u001b[0;32m     44\u001b[0m \u001b[0mplt\u001b[0m\u001b[1;33m.\u001b[0m\u001b[0mtitle\u001b[0m\u001b[1;33m(\u001b[0m\u001b[1;34m'model accuracy'\u001b[0m\u001b[1;33m)\u001b[0m\u001b[1;33m\u001b[0m\u001b[1;33m\u001b[0m\u001b[0m\n",
      "\u001b[1;31mKeyError\u001b[0m: 'acc'"
     ]
    }
   ],
   "source": [
    "\n",
    "lr_reducer = ReduceLROnPlateau(factor=np.sqrt(0.1), cooldown=0, patience=5, min_lr=0.5e-6)\n",
    "early_stopper = EarlyStopping(min_delta=0.001, patience=5)\n",
    "\n",
    "model_chkpt = ModelCheckpoint('vgg19_20epochs.h5',\n",
    "                              monitor='val_loss', verbose=1, \n",
    "                              save_best_only=True)\n",
    "batch_size = 32\n",
    "nb_classes = 23\n",
    "nb_epoch = 20\n",
    "data_augmentation = True\n",
    "\n",
    "# input image dimensions\n",
    "img_rows, img_cols = 32, 32\n",
    "# The CIFAR10 images are RGB.\n",
    "img_channels = 3\n",
    "train_path='data_set/train'\n",
    "test_path='data_set/test'\n",
    "# this is the augmentation configuration we will use for training\n",
    "train_datagen = ImageDataGenerator(\n",
    "    rescale=1. / 255,\n",
    "    shear_range=0.2,\n",
    "    zoom_range=0.2,\n",
    "    horizontal_flip=True)\n",
    "\n",
    "# this is the augmentation configuration we will use for testing:\n",
    "# only rescaling\n",
    "test_datagen = ImageDataGenerator(rescale=1. / 255)\n",
    "\n",
    "train_data=train_datagen.flow_from_directory(train_path,classes=classes,target_size=(32,32),batch_size=62)\n",
    "test_data=test_datagen.flow_from_directory(test_path,classes=classes,target_size=(32,32),batch_size=62)\n",
    "\n",
    "model.compile(loss='categorical_crossentropy', optimizer='adam', metrics=['accuracy'])\n",
    "history=model.fit_generator(train_data,steps_per_epoch=124,validation_data=test_data,validation_steps=33,epochs=20,verbose=1, \n",
    "                            callbacks=[lr_reducer, model_chkpt])\n",
    "\n",
    "# history=model.fit_generator(aug.flow(train_data, batch_size=65),\n",
    "# \tvalidation_data=(test_data), steps_per_epoch=33,\n",
    "# \tepochs=20)\n",
    "\n",
    "model.save('final_vgg1920epochs.h5')\n",
    "# summarize history for accuracy\n",
    "plt.plot(history.history['acc'])\n",
    "plt.plot(history.history['val_acc'])\n",
    "plt.title('model accuracy')\n",
    "plt.ylabel('accuracy')\n",
    "plt.xlabel('epoch')\n",
    "plt.legend(['train', 'test'], loc='upper left')\n",
    "plt.show()\n",
    "# summarize history for loss\n",
    "plt.plot(history.history['loss'])\n",
    "plt.plot(history.history['val_loss'])\n",
    "plt.title('model loss')\n",
    "plt.ylabel('loss')\n",
    "plt.xlabel('epoch')\n",
    "plt.legend(['train', 'test'], loc='upper left')\n",
    "plt.show()"
   ]
  },
  {
   "cell_type": "code",
   "execution_count": 21,
   "metadata": {
    "scrolled": true
   },
   "outputs": [
    {
     "data": {
      "image/png": "[encoded data removed]",
      "text/plain": [
       "<Figure size 432x288 with 1 Axes>"
      ]
     },
     "metadata": {
      "needs_background": "light"
     },
     "output_type": "display_data"
    }
   ],
   "source": [
    "# summarize history for accuracy\n",
    "plt.plot(history.history['accuracy'])\n",
    "plt.plot(history.history['val_accuracy'])\n",
    "plt.title('model accuracy')\n",
    "plt.ylabel('accuracy')\n",
    "plt.xlabel('epoch')\n",
    "plt.legend(['train', 'test'], loc='upper left')\n",
    "plt.show()"
   ]
  },
  {
   "cell_type": "code",
   "execution_count": 22,
   "metadata": {},
   "outputs": [
    {
     "data": {
      "image/png": "[encoded data removed]",
      "text/plain": [
       "<Figure size 432x288 with 1 Axes>"
      ]
     },
     "metadata": {
      "needs_background": "light"
     },
     "output_type": "display_data"
    }
   ],
   "source": [
    "# summarize history for loss\n",
    "plt.plot(history.history['loss'])\n",
    "plt.plot(history.history['val_loss'])\n",
    "plt.title('model loss')\n",
    "plt.ylabel('loss')\n",
    "plt.xlabel('epoch')\n",
    "plt.legend(['train', 'test'], loc='upper left')\n",
    "plt.show()"
   ]
  },
  {
   "cell_type": "code",
   "execution_count": 27,
   "metadata": {},
   "outputs": [
    {
     "name": "stdout",
     "output_type": "stream",
     "text": [
      "[[8.99888635e-01 1.00111373e-01 1.02454684e-10 5.67690783e-10]]\n"
     ]
    },
    {
     "data": {
      "text/plain": [
       "'Melanoma-Begin'"
      ]
     },
     "execution_count": 27,
     "metadata": {},
     "output_type": "execute_result"
    }
   ],
   "source": [
    "model = load_model('final_vgg1920epochs.h5', compile=True)\n",
    "import cv2\n",
    "img = 'data_set/66.jpg'\n",
    "img = cv2.resize(cv2.imread(img), (32,32)) / 255.0\n",
    "prediction = model.predict(img.reshape(1,32,32,3))\n",
    "print(prediction)\n",
    "classes[prediction.argmax()]"
   ]
  },
  {
   "cell_type": "code",
   "execution_count": 28,
   "metadata": {
    "scrolled": true
   },
   "outputs": [
    {
     "name": "stdout",
     "output_type": "stream",
     "text": [
      "Epoch 1/10\n",
      "124/124 [==============================] - 408s 3s/step - loss: 0.6066 - accuracy: 0.6334 - val_loss: 0.9742 - val_accuracy: 0.5741\n",
      "\n",
      "Epoch 00001: val_loss did not improve from 0.70318\n",
      "Epoch 2/10\n",
      "124/124 [==============================] - 397s 3s/step - loss: 0.6021 - accuracy: 0.6329 - val_loss: 1.0831 - val_accuracy: 0.5620\n",
      "\n",
      "Epoch 00002: val_loss did not improve from 0.70318\n",
      "Epoch 3/10\n",
      "124/124 [==============================] - 475s 4s/step - loss: 0.6035 - accuracy: 0.6289 - val_loss: 0.7975 - val_accuracy: 0.5622\n",
      "\n",
      "Epoch 00003: val_loss did not improve from 0.70318\n",
      "Epoch 4/10\n",
      "124/124 [==============================] - 475s 4s/step - loss: 0.5953 - accuracy: 0.6342 - val_loss: 1.1701 - val_accuracy: 0.5480\n",
      "\n",
      "Epoch 00004: val_loss did not improve from 0.70318\n",
      "Epoch 5/10\n",
      "124/124 [==============================] - 447s 4s/step - loss: 0.5998 - accuracy: 0.6372 - val_loss: 0.8353 - val_accuracy: 0.5522\n",
      "\n",
      "Epoch 00005: val_loss did not improve from 0.70318\n",
      "Epoch 6/10\n",
      "124/124 [==============================] - 471s 4s/step - loss: 0.5952 - accuracy: 0.6360 - val_loss: 1.3441 - val_accuracy: 0.5545\n",
      "\n",
      "Epoch 00006: val_loss did not improve from 0.70318\n",
      "Epoch 7/10\n",
      "124/124 [==============================] - 440s 4s/step - loss: 0.5907 - accuracy: 0.6336 - val_loss: 1.2349 - val_accuracy: 0.5501\n",
      "\n",
      "Epoch 00007: val_loss did not improve from 0.70318\n",
      "Epoch 8/10\n",
      "124/124 [==============================] - 443s 4s/step - loss: 0.5933 - accuracy: 0.6351 - val_loss: 1.4896 - val_accuracy: 0.5576\n",
      "\n",
      "Epoch 00008: val_loss did not improve from 0.70318\n",
      "Epoch 9/10\n",
      "124/124 [==============================] - 439s 4s/step - loss: 0.5847 - accuracy: 0.6380 - val_loss: 1.5941 - val_accuracy: 0.5387\n",
      "\n",
      "Epoch 00009: val_loss did not improve from 0.70318\n",
      "Epoch 10/10\n",
      "124/124 [==============================] - 456s 4s/step - loss: 0.5857 - accuracy: 0.6396 - val_loss: 1.5468 - val_accuracy: 0.5324\n",
      "\n",
      "Epoch 00010: val_loss did not improve from 0.70318\n"
     ]
    },
    {
     "data": {
      "image/png": "[encoded data removed]",
      "text/plain": [
       "<Figure size 432x288 with 1 Axes>"
      ]
     },
     "metadata": {
      "needs_background": "light"
     },
     "output_type": "display_data"
    },
    {
     "data": {
      "image/png": "[encoded data removed]",
      "text/plain": [
       "<Figure size 432x288 with 1 Axes>"
      ]
     },
     "metadata": {
      "needs_background": "light"
     },
     "output_type": "display_data"
    }
   ],
   "source": [
    "model = load_model('final_vgg1920epochs.h5', compile='True')\n",
    "history=model.fit_generator(train_data,steps_per_epoch=124,validation_data=test_data,validation_steps=33,epochs=10,verbose=1, callbacks=[lr_reducer, model_chkpt])\n",
    "model.save('final_vgg1930epochs.h5')\n",
    "\n",
    "# summarize history for accuracy\n",
    "plt.plot(history.history['accuracy'])\n",
    "plt.plot(history.history['val_accuracy'])\n",
    "plt.title('model accuracy')\n",
    "plt.ylabel('accuracy')\n",
    "plt.xlabel('epoch')\n",
    "plt.legend(['train', 'test'], loc='upper left')\n",
    "plt.show()\n",
    "\n",
    "# summarize history for loss\n",
    "plt.plot(history.history['loss'])\n",
    "plt.plot(history.history['val_loss'])\n",
    "plt.title('model loss')\n",
    "plt.ylabel('loss')\n",
    "plt.xlabel('epoch')\n",
    "plt.legend(['train', 'test'], loc='upper left')\n",
    "plt.show()"
   ]
  },
  {
   "cell_type": "code",
   "execution_count": null,
   "metadata": {},
   "outputs": [],
   "source": []
  }
 ],
 "metadata": {
  "kernelspec": {
   "display_name": "Python 3 (ipykernel)",
   "language": "python",
   "name": "python3"
  },
  "language_info": {
   "codemirror_mode": {
    "name": "ipython",
    "version": 3
   },
   "file_extension": ".py",
   "mimetype": "text/x-python",
   "name": "python",
   "nbconvert_exporter": "python",
   "pygments_lexer": "ipython3",
   "version": "3.9.4"
  }
 },
 "nbformat": 4,
 "nbformat_minor": 4
}
