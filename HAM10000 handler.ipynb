{
 "cells": [
  {
   "cell_type": "code",
   "execution_count": 1,
   "id": "86b92022",
   "metadata": {},
   "outputs": [
    {
     "name": "stdout",
     "output_type": "stream",
     "text": [
      "C:\\Users\\piranavan\\PycharmProjects\\skinDr\n"
     ]
    }
   ],
   "source": [
    "!cd  #C:\\Users\\piranavan\\PycharmProjects\\skinDr\\data_set\\dataverse_files\\HAM10000_metadata.csv"
   ]
  },
  {
   "cell_type": "code",
   "execution_count": 5,
   "id": "d19c3ff8",
   "metadata": {},
   "outputs": [],
   "source": [
    "import pandas as pd\n",
    "import os\n",
    "import shutil"
   ]
  },
  {
   "cell_type": "code",
   "execution_count": 10,
   "id": "2d258283",
   "metadata": {},
   "outputs": [
    {
     "name": "stdout",
     "output_type": "stream",
     "text": [
      "nv       6705\n",
      "mel      1113\n",
      "bkl      1099\n",
      "bcc       514\n",
      "akiec     327\n",
      "vasc      142\n",
      "df        115\n",
      "Name: dx, dtype: int64\n"
     ]
    }
   ],
   "source": [
    "source_dir = os.getcwd()+ \"\\\\data_set\\\\dataverse_files\\\\HAM10000_images\\\\\"\n",
    "end_dir = os.getcwd() + \"\\\\data_set\\\\dataverse_files\\\\HAM10000_classes\\\\\"\n",
    "\n",
    "skin_df = pd.read_csv(\"C:\\\\Users\\\\piranavan\\\\PycharmProjects\\\\skinDr\\\\data_set\\\\dataverse_files\\\\HAM10000_metadata.csv\")\n",
    "print(skin_df['dx'].value_counts())"
   ]
  },
  {
   "cell_type": "code",
   "execution_count": 14,
   "id": "43f86a35",
   "metadata": {},
   "outputs": [],
   "source": [
    "label = skin_df['dx'].unique().tolist()\n",
    "label_images = []\n",
    "\n",
    "for i in label:\n",
    "    os.mkdir(end_dir + str(i) + \"\\\\\")\n",
    "    sample = skin_df[skin_df['dx'] == i]['image_id']\n",
    "    label_images.extend(sample)\n",
    "    for id in label_images:\n",
    "        shutil.copyfile((source_dir + \"\\\\\"+id+\".jpg\"), (end_dir + i + \"\\\\\"+id+\".jpg\"))\n",
    "    label_images=[]"
   ]
  },
  {
   "cell_type": "code",
   "execution_count": null,
   "id": "2a6f261c",
   "metadata": {},
   "outputs": [],
   "source": [
    "\"\"\"\n",
    "The 7 classes of skin cancer lesions included in this dataset are:\n",
    "\n",
    "Melanocytic nevi (nv)\n",
    "Melanoma (mel)\n",
    "Benign keratosis-like lesions (bkl)\n",
    "Basal cell carcinoma (bcc) \n",
    "Actinic keratoses (akiec)\n",
    "Vascular lesions (vas)\n",
    "Dermatofibroma (df)\n",
    "\n",
    "\"\"\""
   ]
  }
 ],
 "metadata": {
  "kernelspec": {
   "display_name": "Python 3 (ipykernel)",
   "language": "python",
   "name": "python3"
  },
  "language_info": {
   "codemirror_mode": {
    "name": "ipython",
    "version": 3
   },
   "file_extension": ".py",
   "mimetype": "text/x-python",
   "name": "python",
   "nbconvert_exporter": "python",
   "pygments_lexer": "ipython3",
   "version": "3.9.4"
  }
 },
 "nbformat": 4,
 "nbformat_minor": 5
}
